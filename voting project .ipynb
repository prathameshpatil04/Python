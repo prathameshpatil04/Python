{
 "cells": [
  {
   "cell_type": "code",
   "execution_count": null,
   "id": "70b78aad",
   "metadata": {},
   "outputs": [],
   "source": [
    "result= 'P'\n",
    "numPvotes=0\n",
    "numJvotes=0\n",
    "while (result.upper() == 'P'  or result.upper()  == 'J'):\n",
    "    result=input(\"please enter the vote (P/J/q (q for quait)): \")\n",
    "    if (result.upper() =='P'):\n",
    "        numPvotes+=1;\n",
    "    elif (result.upper() =='J'):\n",
    "        numJvotes+=1;\n",
    "        \n",
    "print(\"\\nTotal number of votes for Mr.Patil : \"+str(numPvotes))\n",
    "print(\"\\nTotal number of votes for Mr.Jadhav : \"+str(numJvotes))\n",
    " \n",
    "if (numPvotes>numJvotes):\n",
    "        print(\" \\n Mr.Patil : I Won !!!!\")\n",
    "        print(\" \\n Mr.Patil is leading by \"+str(numPvotes-numJvotes) + ' votes ')\n",
    "elif (numJvotes>numPvotes):\n",
    "        print(\" \\n Mr.Jadhav : I Won !!!!\")\n",
    "        print(\" \\n Mr.Jadhav is leading by \"+str(numJvotes-numPvotes) + ' votes ')\n",
    "else:\n",
    "    print(\" They have equal number of votes\")"
   ]
  },
  {
   "cell_type": "code",
   "execution_count": null,
   "id": "910b5678",
   "metadata": {},
   "outputs": [],
   "source": []
  },
  {
   "cell_type": "code",
   "execution_count": null,
   "id": "fa99d36a",
   "metadata": {},
   "outputs": [],
   "source": []
  }
 ],
 "metadata": {
  "kernelspec": {
   "display_name": "Python 3 (ipykernel)",
   "language": "python",
   "name": "python3"
  },
  "language_info": {
   "codemirror_mode": {
    "name": "ipython",
    "version": 3
   },
   "file_extension": ".py",
   "mimetype": "text/x-python",
   "name": "python",
   "nbconvert_exporter": "python",
   "pygments_lexer": "ipython3",
   "version": "3.10.5"
  }
 },
 "nbformat": 4,
 "nbformat_minor": 5
}
